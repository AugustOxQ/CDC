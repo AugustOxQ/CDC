{
 "cells": [
  {
   "cell_type": "code",
   "execution_count": null,
   "metadata": {},
   "outputs": [],
   "source": [
    "import json\n",
    "import os\n",
    "import random\n",
    "random.seed(42)"
   ]
  },
  {
   "cell_type": "code",
   "execution_count": null,
   "metadata": {},
   "outputs": [],
   "source": [
    "def sample_and_split_annotations(annotation_path, test_size, test_output_path, train_output_path):\n",
    "    # Load annotations\n",
    "    with open(annotation_path, 'r') as f:\n",
    "        annotations = json.load(f)\n",
    "\n",
    "    # Ensure the dataset is large enough\n",
    "    if len(annotations) < test_size:\n",
    "        raise ValueError(\"The dataset is smaller than the requested test size.\")\n",
    "\n",
    "    # Sample 5000 pairs for the test set\n",
    "    test_set = random.sample(annotations, test_size)\n",
    "\n",
    "    # Create the training set by removing the test set samples from the original annotations\n",
    "    test_set_ids = {ann['image_id'] for ann in test_set}\n",
    "    train_set = [ann for ann in annotations if ann['image_id'] not in test_set_ids]\n",
    "\n",
    "    # Save the test set\n",
    "    with open(test_output_path, 'w') as f:\n",
    "        json.dump(test_set, f, indent=4)\n",
    "\n",
    "    # Save the training set\n",
    "    with open(train_output_path, 'w') as f:\n",
    "        json.dump(train_set, f, indent=4)"
   ]
  },
  {
   "cell_type": "code",
   "execution_count": null,
   "metadata": {},
   "outputs": [],
   "source": [
    "path_2 = \"/project/Deep-Clustering/data/redcaps_plus/redcaps.json\"\n",
    "test_output_path = '/project/Deep-Clustering/data/redcaps_plus/redcaps_test.json'\n",
    "train_output_path = '/project/Deep-Clustering/data/redcaps_plus/redcaps_train.json'\n",
    "test_size = 5000"
   ]
  },
  {
   "cell_type": "code",
   "execution_count": null,
   "metadata": {},
   "outputs": [],
   "source": [
    "# sample_and_split_annotations(path_2, test_size, test_output_path, train_output_path)"
   ]
  },
  {
   "cell_type": "code",
   "execution_count": null,
   "metadata": {},
   "outputs": [],
   "source": [
    "# # Create small, medium and full training set\n",
    "# redcaps_annotation = json.load(open(train_output_path))\n",
    "\n",
    "# redcaps_small = random.sample(redcaps_annotation, int(len(redcaps_annotation) * 0.1))\n",
    "# redcaps_medium = random.sample(redcaps_annotation, int(len(redcaps_annotation) * 0.5))\n",
    "\n",
    "# # Save the small training set\n",
    "# with open('/project/Deep-Clustering/data/redcaps_plus/redcaps_train_s.json', 'w') as f:\n",
    "#     json.dump(redcaps_small, f, indent=4)\n",
    "\n",
    "# # Save the medium training set\n",
    "# with open('/project/Deep-Clustering/data/redcaps_plus/redcaps_train_m.json', 'w') as f:\n",
    "#     json.dump(redcaps_medium, f, indent=4)"
   ]
  },
  {
   "cell_type": "code",
   "execution_count": null,
   "metadata": {},
   "outputs": [],
   "source": [
    "def transform_first_type_testset(first_test_path):\n",
    "    with open(first_test_path, 'r') as f:\n",
    "        first_test_set = json.load(f)\n",
    "    \n",
    "    transformed_first_test_set = []\n",
    "    for entry in first_test_set:\n",
    "        image_path = entry['image']\n",
    "        \n",
    "        captions = entry['caption'][:5]\n",
    "        for caption in captions:\n",
    "            transformed_first_test_set.append({\n",
    "                'image': os.path.join(\"coco/images\", image_path),\n",
    "                'caption': caption\n",
    "            })\n",
    "    \n",
    "    return transformed_first_test_set"
   ]
  },
  {
   "cell_type": "code",
   "execution_count": null,
   "metadata": {},
   "outputs": [],
   "source": [
    "def combine_testsets(first_transformed_testset, second_testset, output_path):\n",
    "    combined_test_set = first_transformed_testset + second_testset\n",
    "    with open(output_path, 'w') as f:\n",
    "        json.dump(combined_test_set, f, indent=4)"
   ]
  },
  {
   "cell_type": "markdown",
   "metadata": {},
   "source": [
    "## MSCOCO\n"
   ]
  },
  {
   "cell_type": "code",
   "execution_count": null,
   "metadata": {},
   "outputs": [],
   "source": [
    "path_1 = \"/data/SSD/coco/annotations/coco_karpathy_test.json\"\n",
    "combined_test_output_path = '/project/Deep-Clustering/data/redcaps_plus/redcoco_test.json'"
   ]
  },
  {
   "cell_type": "code",
   "execution_count": null,
   "metadata": {},
   "outputs": [],
   "source": [
    "transformed_first_test_set = transform_first_type_testset(path_1)\n",
    "\n",
    "# Load the second test set\n",
    "with open(test_output_path, 'r') as f:\n",
    "    second_test_set = json.load(f)"
   ]
  },
  {
   "cell_type": "code",
   "execution_count": null,
   "metadata": {},
   "outputs": [],
   "source": [
    "# Combine the test sets\n",
    "combine_testsets(transformed_first_test_set, second_test_set, combined_test_output_path)"
   ]
  },
  {
   "cell_type": "code",
   "execution_count": null,
   "metadata": {},
   "outputs": [],
   "source": [
    "# Combine mscoco and redcaps_train\n",
    "# Load the mscoco training set\n",
    "\n",
    "def load_first_type(annotation_path, prefix):\n",
    "    # Load mscoco style annotation\n",
    "    with open(annotation_path) as f:\n",
    "        annotations = json.load(f)\n",
    "        for annotation in annotations:\n",
    "            annotation['image'] = os.path.join(prefix, annotation['image'])\n",
    "    return annotations\n",
    "\n",
    "mscoco_train = load_first_type('/data/SSD/coco/annotations/coco_karpathy_train.json', 'coco/images')\n",
    "    \n",
    "\n",
    "# Load the redcaps training set\n",
    "with open('/project/Deep-Clustering/data/redcaps_plus/redcaps_train.json', 'r') as f:\n",
    "    redcaps_train = json.load(f)\n",
    "    \n",
    "# Combine the two datasets\n",
    "combined_train = mscoco_train + redcaps_train\n",
    "\n",
    "# Save the combined dataset\n",
    "with open('/project/Deep-Clustering/data/redcaps_plus/redcoco_train.json', 'w') as f:\n",
    "    json.dump(combined_train, f)"
   ]
  },
  {
   "cell_type": "code",
   "execution_count": null,
   "metadata": {},
   "outputs": [],
   "source": [
    "combined_train[0]"
   ]
  },
  {
   "cell_type": "code",
   "execution_count": null,
   "metadata": {},
   "outputs": [],
   "source": [
    "path_1 = \"/data/SSD/coco/annotations/coco_karpathy_test.json\"\n",
    "combined_test_output_path = '/project/Deep-Clustering/data/redcaps_plus/redcoco_test.json'"
   ]
  },
  {
   "cell_type": "code",
   "execution_count": null,
   "metadata": {},
   "outputs": [],
   "source": [
    "transformed_first_test_set = transform_first_type_testset(path_1)\n",
    "\n",
    "# Load the second test set\n",
    "with open(test_output_path, 'r') as f:\n",
    "    second_test_set = json.load(f)"
   ]
  },
  {
   "cell_type": "code",
   "execution_count": null,
   "metadata": {},
   "outputs": [],
   "source": [
    "# Combine the test sets\n",
    "combine_testsets(transformed_first_test_set, second_test_set, combined_test_output_path)"
   ]
  },
  {
   "cell_type": "code",
   "execution_count": null,
   "metadata": {},
   "outputs": [],
   "source": [
    "# Combine mscoco and redcaps_train\n",
    "# Load the mscoco training set\n",
    "with open('/data/SSD/coco/annotations/coco_karpathy_train.json', 'r') as f:\n",
    "    mscoco_train = json.load(f)\n",
    "    \n",
    "# Load the redcaps training set\n",
    "with open('/project/Deep-Clustering/data/redcaps_plus/redcaps_train.json', 'r') as f:\n",
    "    redcaps_train = json.load(f)\n",
    "    \n",
    "# Combine the two datasets\n",
    "combined_train = mscoco_train + redcaps_train\n",
    "\n",
    "# Save the combined dataset\n",
    "with open('/project/Deep-Clustering/data/redcaps_plus/redcoco_train.json', 'w') as f:\n",
    "    json.dump(combined_train, f)"
   ]
  },
  {
   "cell_type": "markdown",
   "metadata": {},
   "source": [
    "## Flickr30k\n"
   ]
  },
  {
   "cell_type": "code",
   "execution_count": 30,
   "metadata": {},
   "outputs": [],
   "source": [
    "def transform_first_type_testset_1(first_test_path):\n",
    "    with open(first_test_path, 'r') as f:\n",
    "        first_test_set = json.load(f)\n",
    "    \n",
    "    transformed_first_test_set = []\n",
    "    for entry in first_test_set:\n",
    "        image_path = entry['image']\n",
    "        \n",
    "        captions = entry['caption'][:5]\n",
    "        for caption in captions:\n",
    "            transformed_first_test_set.append({\n",
    "                'image': os.path.join(\"flickr30k/images\", image_path),\n",
    "                'caption': caption\n",
    "            })\n",
    "    \n",
    "    return transformed_first_test_set\n",
    "\n",
    "def transform_first_type_testset(first_test_path):\n",
    "    # Transform 1v5 cases\n",
    "    with open(first_test_path, 'r') as f:\n",
    "        first_test_set = json.load(f)\n",
    "    \n",
    "    transformed_first_test_set = []\n",
    "    for entry in first_test_set:\n",
    "        image_path = entry['image']\n",
    "        \n",
    "        captions = entry['caption'][:5]\n",
    "        \n",
    "        transformed_first_test_set.append({\n",
    "                'image': os.path.join(\"flickr30k/images\", image_path),\n",
    "                'caption': captions\n",
    "            })\n",
    "    \n",
    "    return transformed_first_test_set"
   ]
  },
  {
   "cell_type": "code",
   "execution_count": 31,
   "metadata": {},
   "outputs": [],
   "source": [
    "path_1 = \"/data/SSD/flickr30k/annotations/test.json\"\n",
    "\n",
    "combined_test_output_path = '/project/Deep-Clustering/data/redcaps_plus/redflickr_test_flickr.json'\n",
    "combined_test_output_path_2 = '/project/Deep-Clustering/data/redcaps_plus/redflickr_test_redcaps.json'\n",
    "combined_test_output_path_3 = '/project/Deep-Clustering/data/redcaps_plus/redflickr_test_hybrid.json'"
   ]
  },
  {
   "cell_type": "code",
   "execution_count": 32,
   "metadata": {},
   "outputs": [],
   "source": [
    "transformed_first_test_set = transform_first_type_testset(path_1)\n",
    "# Dump the transformed test set\n",
    "json.dump(transformed_first_test_set, open(combined_test_output_path, 'w'), indent=4)\n",
    "\n",
    "# Load the second test set\n",
    "with open(test_output_path, 'r') as f:\n",
    "    second_test_set = json.load(f)[:5000]\n",
    "    \n",
    "# dump the second test set\n",
    "json.dump(second_test_set, open(combined_test_output_path_2, 'w'), indent=4)"
   ]
  },
  {
   "cell_type": "code",
   "execution_count": 33,
   "metadata": {},
   "outputs": [],
   "source": [
    "# Combine the test sets\n",
    "combine_testsets(transformed_first_test_set, second_test_set, combined_test_output_path_3)"
   ]
  },
  {
   "cell_type": "code",
   "execution_count": null,
   "metadata": {},
   "outputs": [],
   "source": [
    "# Combine mscoco and redcaps_train\n",
    "# Load the mscoco training set\n",
    "\n",
    "def load_first_type(annotation_path, prefix):\n",
    "    # Load mscoco style annotation\n",
    "    with open(annotation_path) as f:\n",
    "        annotations = json.load(f)\n",
    "        for annotation in annotations:\n",
    "            annotation['image'] = os.path.join(prefix, annotation['image'])\n",
    "    return annotations\n",
    "\n",
    "mscoco_train = load_first_type('/data/SSD/flickr30k/annotations/train.json', 'flickr30k/images')\n",
    "\n",
    "mscoco_train = mscoco_train[:5000]\n",
    "\n",
    "# Load the redcaps training set\n",
    "with open('/project/Deep-Clustering/data/redcaps_plus/redcaps_train.json', 'r') as f:\n",
    "    redcaps_train = json.load(f)[:5000]\n",
    "    \n",
    "# Combine the two datasets\n",
    "combined_train = mscoco_train + redcaps_train\n",
    "\n",
    "# Save the combined dataset\n",
    "with open('/project/Deep-Clustering/data/redcaps_plus/redflickr_train_mini.json', 'w') as f:\n",
    "    json.dump(combined_train, f, indent=4)"
   ]
  },
  {
   "cell_type": "code",
   "execution_count": null,
   "metadata": {},
   "outputs": [],
   "source": [
    "combined_train[0]"
   ]
  },
  {
   "cell_type": "code",
   "execution_count": null,
   "metadata": {},
   "outputs": [],
   "source": []
  }
 ],
 "metadata": {
  "kernelspec": {
   "display_name": "deepclustering",
   "language": "python",
   "name": "python3"
  },
  "language_info": {
   "codemirror_mode": {
    "name": "ipython",
    "version": 3
   },
   "file_extension": ".py",
   "mimetype": "text/x-python",
   "name": "python",
   "nbconvert_exporter": "python",
   "pygments_lexer": "ipython3",
   "version": "3.9.18"
  }
 },
 "nbformat": 4,
 "nbformat_minor": 2
}
