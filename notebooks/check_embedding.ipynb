{
 "cells": [
  {
   "cell_type": "code",
   "execution_count": null,
   "metadata": {},
   "outputs": [],
   "source": [
    "import json\n",
    "import os\n",
    "import sys\n",
    "import time\n",
    "\n",
    "import h5py\n",
    "import torch"
   ]
  },
  {
   "cell_type": "code",
   "execution_count": null,
   "metadata": {},
   "outputs": [],
   "source": [
    "def load_h5py_files_to_tensor(directory):\n",
    "    # List and sort files by index\n",
    "    files = sorted(\n",
    "        [f for f in os.listdir(directory) if f.startswith(\"embeddings_\") and f.endswith(\".h5\")],\n",
    "        key=lambda x: int(x.split(\"_\")[1].split(\".\")[0]),\n",
    "    )\n",
    "\n",
    "    # Initialize an empty list to store the data\n",
    "    data_list = []\n",
    "\n",
    "    # Loop through each file in order, load the data using h5py, and append to the list\n",
    "    for file in files:\n",
    "        file_path = os.path.join(directory, file)\n",
    "        with h5py.File(file_path, \"r\") as f:\n",
    "            # Assuming the datasets are stored under numerical keys\n",
    "            for key in sorted(f.keys(), key=int):\n",
    "                data = f[key][:]\n",
    "                data_list.append(torch.tensor(data))\n",
    "\n",
    "    # Combine the list of tensors into a single tensor\n",
    "    combined_tensor = torch.stack(data_list)\n",
    "\n",
    "    return combined_tensor"
   ]
  },
  {
   "cell_type": "code",
   "execution_count": null,
   "metadata": {},
   "outputs": [],
   "source": [
    "path_1 = \"/project/Deep-Clustering/res/20240723_170228_flickr30k-preextracted/epoch_0\"\n",
    "path_2 = \"/project/Deep-Clustering/res/20240723_165510_flickr30k-preextracted/epoch_0_kmupdate\"\n",
    "\n",
    "label_embeddings = load_h5py_files_to_tensor(path_1)\n",
    "label_embeddings_kmupdate = load_h5py_files_to_tensor(path_2)"
   ]
  },
  {
   "cell_type": "code",
   "execution_count": null,
   "metadata": {},
   "outputs": [],
   "source": [
    "differences = torch.any(label_embeddings != label_embeddings_kmupdate, dim=1)\n",
    "\n",
    "# Count the number of different rows\n",
    "num_different_rows = torch.sum(differences).item()\n",
    "\n",
    "print(num_different_rows)"
   ]
  },
  {
   "cell_type": "code",
   "execution_count": null,
   "metadata": {},
   "outputs": [],
   "source": [
    "# Find different embeddings in the two sets\n",
    "diff = label_embeddings - label_embeddings_kmupdate\n",
    "print(diff.abs().sum())"
   ]
  },
  {
   "cell_type": "code",
   "execution_count": null,
   "metadata": {},
   "outputs": [],
   "source": []
  },
  {
   "cell_type": "code",
   "execution_count": null,
   "metadata": {},
   "outputs": [],
   "source": []
  }
 ],
 "metadata": {
  "kernelspec": {
   "display_name": "deepclustering",
   "language": "python",
   "name": "python3"
  },
  "language_info": {
   "codemirror_mode": {
    "name": "ipython",
    "version": 3
   },
   "file_extension": ".py",
   "mimetype": "text/x-python",
   "name": "python",
   "nbconvert_exporter": "python",
   "pygments_lexer": "ipython3",
   "version": "3.9.18"
  }
 },
 "nbformat": 4,
 "nbformat_minor": 2
}
