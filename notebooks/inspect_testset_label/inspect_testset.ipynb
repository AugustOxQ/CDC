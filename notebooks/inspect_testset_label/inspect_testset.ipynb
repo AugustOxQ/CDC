{
 "cells": [
  {
   "cell_type": "code",
   "execution_count": null,
   "metadata": {},
   "outputs": [],
   "source": [
    "from "
   ]
  },
  {
   "cell_type": "code",
   "execution_count": null,
   "metadata": {},
   "outputs": [],
   "source": [
    "import json\n",
    "import os\n",
    "\n",
    "import matplotlib.pyplot as plt\n",
    "import numpy as np\n",
    "import pandas as pd\n",
    "import torch\n",
    "from IPython.display import display\n",
    "from PIL import Image\n",
    "\n",
    "pd.set_option(\"display.max_colwidth\", None)  # Ensures full text is shown\n",
    "pd.set_option(\"display.max_rows\", 200)  # Increase max rows if needed\n",
    "pd.set_option(\"display.max_columns\", 50)  # Increase max columns if needed"
   ]
  },
  {
   "cell_type": "code",
   "execution_count": null,
   "metadata": {},
   "outputs": [],
   "source": [
    "ann_path = \"/data/SSD/flickr30k/annotations/test.json\"\n",
    "img_path = \"/data/SSD/flickr30k/images/\"\n",
    "\n",
    "ann = json.load(open(ann_path, \"r\"))\n",
    "txt_collection = [item[\"caption\"] for item in ann]\n",
    "txt_collection = [item for sublist in txt_collection for item in sublist]\n",
    "\n",
    "eval_results = torch.load(\"./eval_results_top_110_flickr30k.pt\")\n",
    "\n",
    "print(eval_results.keys())\n",
    "\n",
    "sorted_indices_label_collection = eval_results[\n",
    "    \"sorted_indices_label_collection\"\n",
    "]  # list of length N (number of labels)\n",
    "all_selected_label_indices_collection = eval_results[\n",
    "    \"all_selected_label_indices_collection\"\n",
    "]  # nested list of length N, where each item is the index which the image choose this label\n",
    "inds_collection = eval_results[\"inds_collection\"]  # nested list of length N\n",
    "inds_raw_itt = eval_results[\"inds_raw_itt\"]  # [1000, 5000]"
   ]
  },
  {
   "cell_type": "code",
   "execution_count": null,
   "metadata": {},
   "outputs": [],
   "source": [
    "all_selected_label_indices_collection[10]"
   ]
  },
  {
   "cell_type": "code",
   "execution_count": null,
   "metadata": {},
   "outputs": [],
   "source": [
    "n = 0\n",
    "n = min(n, len(sorted_indices_label_collection))\n",
    "selected_indices = sorted_indices_label_collection[n]\n",
    "print(int(selected_indices))"
   ]
  },
  {
   "cell_type": "code",
   "execution_count": null,
   "metadata": {},
   "outputs": [],
   "source": [
    "i = 4\n",
    "\n",
    "idx = all_selected_label_indices_collection[n][i]\n",
    "check_top_k = 50\n",
    "item = ann[idx]\n",
    "img = os.path.join(img_path, item[\"image\"])\n",
    "img = Image.open(img).convert(\"RGB\")\n",
    "# turn off axis\n",
    "plt.axis(\"off\")\n",
    "plt.imshow(img)\n",
    "plt.show()\n",
    "\n",
    "# First get original caption\n",
    "original_caption = item[\"caption\"]\n",
    "\n",
    "# Then get the caption retrieved by raw\n",
    "retrived_caption_index_raw = inds_raw_itt[idx][:check_top_k]\n",
    "retrived_caption_raw = [txt_collection[i] for i in retrived_caption_index_raw]\n",
    "\n",
    "# Finally get the caption retrieved by our method\n",
    "retrived_caption_index_cdc = inds_collection[n][idx][:check_top_k].tolist()\n",
    "retrived_caption_cdc = [txt_collection[i] for i in retrived_caption_index_cdc]\n",
    "\n",
    "# Turn into a panda dataframe\n",
    "df = pd.DataFrame(\n",
    "    {\n",
    "        \"Raw_retrieve\": retrived_caption_raw,\n",
    "        \"CDC_retrieve\": retrived_caption_cdc,\n",
    "    }\n",
    ")\n",
    "\n",
    "\n",
    "# Function to highlight duplicates\n",
    "def highlight_duplicates(val, col1, col2):\n",
    "    # If the value appears in both columns, color it blue\n",
    "\n",
    "    if val in original_caption:\n",
    "        return \"background-color: lightgreen\"\n",
    "\n",
    "    if val in df[col1].values and val in df[col2].values:\n",
    "        return \"background-color: lightblue\"\n",
    "\n",
    "    return \"\"\n",
    "\n",
    "\n",
    "# Display the dataframe\n",
    "with pd.option_context(\"display.max_colwidth\", None):\n",
    "    styled_df = df.style.map(highlight_duplicates, col1=\"Raw_retrieve\", col2=\"CDC_retrieve\")\n",
    "    display(styled_df)"
   ]
  },
  {
   "cell_type": "code",
   "execution_count": null,
   "metadata": {},
   "outputs": [],
   "source": []
  }
 ],
 "metadata": {
  "kernelspec": {
   "display_name": "deepclustering2",
   "language": "python",
   "name": "python3"
  },
  "language_info": {
   "codemirror_mode": {
    "name": "ipython",
    "version": 3
   },
   "file_extension": ".py",
   "mimetype": "text/x-python",
   "name": "python",
   "nbconvert_exporter": "python",
   "pygments_lexer": "ipython3",
   "version": "3.10.16"
  }
 },
 "nbformat": 4,
 "nbformat_minor": 2
}
