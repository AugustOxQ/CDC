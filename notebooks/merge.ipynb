{
 "cells": [
  {
   "cell_type": "code",
   "execution_count": null,
   "metadata": {},
   "outputs": [],
   "source": [
    "import json\n",
    "import os\n",
    "from glob import glob\n",
    "from PIL import Image\n",
    "from tqdm import tqdm"
   ]
  },
  {
   "cell_type": "code",
   "execution_count": null,
   "metadata": {},
   "outputs": [],
   "source": [
    "def load_first_type(annotation_path, prefix):\n",
    "    # Load mscoco style annotation\n",
    "    with open(annotation_path) as f:\n",
    "        annotations = json.load(f)\n",
    "        for annotation in annotations:\n",
    "            annotation['image'] = os.path.join(prefix, annotation['image'])\n",
    "    return annotations"
   ]
  },
  {
   "cell_type": "code",
   "execution_count": null,
   "metadata": {},
   "outputs": [],
   "source": [
    "def load_second_type(folder_path, image_prefix):\n",
    "    # Load redcaps annotations\n",
    "    combined_annotations = []\n",
    "    # Load all json files in the folder\n",
    "    json_files = glob(os.path.join(folder_path, '*.json'))\n",
    "    for idx, json_file in enumerate(tqdm(json_files)):\n",
    "        with open(json_file) as f:\n",
    "            data = json.load(f)\n",
    "            # Two keys: \"info\" and \"annotations\", we only care about \"annotations\"\n",
    "            try:\n",
    "                annotations = data['annotations']\n",
    "            except:\n",
    "                # Skip the file if it doesn't have the right keys\n",
    "                print(f\"Skipping file {json_file}\")\n",
    "                continue\n",
    "            # Get the subreddit name from the json file name\n",
    "            subreddit = os.path.basename(json_file).replace('_2020.json', '')\n",
    "            # Load the images from the subreddit folder\n",
    "            image_folder = os.path.join(image_prefix, subreddit)\n",
    "            for annotation in annotations:\n",
    "                image_id = annotation['image_id']\n",
    "                image_path = os.path.join(image_folder, f\"{image_id}.jpg\")\n",
    "                image_path_absolute = os.path.join(\"/data/PDD\", image_path)\n",
    "                if os.path.exists(image_path_absolute):\n",
    "                    try:\n",
    "                        # Try to open the image to ensure it's not corrupted\n",
    "                        Image.open(image_path_absolute)\n",
    "                        combined_annotations.append({\n",
    "                            'image': image_path,\n",
    "                            'caption': annotation['caption'],\n",
    "                            'image_id': annotation['image_id']\n",
    "                        })\n",
    "                    except (IOError, FileNotFoundError):\n",
    "                        print(f\"Skipping corrupted or missing image: {image_path}\")\n",
    "    return combined_annotations"
   ]
  },
  {
   "cell_type": "code",
   "execution_count": null,
   "metadata": {},
   "outputs": [],
   "source": [
    "def merge_annotations(first_annotations, second_annotations, output_path):\n",
    "    combined_annotations = first_annotations + second_annotations\n",
    "    with open(output_path, 'w') as f:\n",
    "        json.dump(combined_annotations, f, indent=4)"
   ]
  },
  {
   "cell_type": "code",
   "execution_count": null,
   "metadata": {},
   "outputs": [],
   "source": [
    "def save_second_annotations_only(second_annotations, output_path):\n",
    "    with open(output_path, 'w') as f:\n",
    "        json.dump(second_annotations, f, indent=4)"
   ]
  },
  {
   "cell_type": "code",
   "execution_count": null,
   "metadata": {},
   "outputs": [],
   "source": [
    "first_annotation_path = '/project/Deep-Clustering/data/flickr30k/train.json'\n",
    "first_prefix = 'flickr30k/images'\n",
    "second_annotation_folder = '/data/PDD/redcaps/annotations2020'\n",
    "second_image_prefix = 'redcaps/images2020'"
   ]
  },
  {
   "cell_type": "code",
   "execution_count": null,
   "metadata": {},
   "outputs": [],
   "source": [
    "# Save second_annotations to a file\n",
    "output_path = '/project/Deep-Clustering/data/redcaps_plus/redcaps.json'\n",
    "second_annotations = load_second_type(second_annotation_folder, second_image_prefix)\n",
    "print(f\"Loaded {len(second_annotations)} annotations from {second_annotation_folder}\")\n",
    "\n",
    "save_second_annotations_only(second_annotations, output_path)\n",
    "\n",
    "print(f\"Second annotations saved to {output_path}\")"
   ]
  },
  {
   "cell_type": "code",
   "execution_count": null,
   "metadata": {},
   "outputs": [],
   "source": [
    "output_path = '/project/Deep-Clustering/data/redcaps_plus/flickr30k_redcaps.json'\n",
    "first_annotations = load_first_type(first_annotation_path, first_prefix)\n",
    "print(f\"Loaded {len(first_annotations)} annotations from {first_annotation_path}\")\n",
    "merge_annotations(first_annotations, second_annotations, output_path)\n",
    "\n",
    "print(f\"Combined annotations saved to {output_path}\")"
   ]
  },
  {
   "cell_type": "code",
   "execution_count": null,
   "metadata": {},
   "outputs": [],
   "source": [
    "first_annotation_path = '/data/SSD/coco/annotations/coco_karpathy_train.json'\n",
    "first_prefix = 'coco/images'\n",
    "output_path = '/project/Deep-Clustering/data/redcaps_plus/coco_redcaps.json'\n",
    "first_annotations = load_first_type(first_annotation_path, first_prefix)\n",
    "\n",
    "merge_annotations(first_annotations, second_annotations, output_path)\n",
    "\n",
    "print(f\"Combined annotations saved to {output_path}\")"
   ]
  },
  {
   "cell_type": "code",
   "execution_count": null,
   "metadata": {},
   "outputs": [],
   "source": [
    "import json\n",
    "import os\n",
    "from PIL import Image\n",
    "path = \"/data/PDD/redcaps/annotations2020/abandoned_2020.json\""
   ]
  },
  {
   "cell_type": "code",
   "execution_count": null,
   "metadata": {},
   "outputs": [],
   "source": [
    "json_file = \"abandoned_2020.json\"\n",
    "image_prefix = \"redcaps/images2020\"\n",
    "with open(path) as f:\n",
    "    data = json.load(f)\n",
    "# Two keys: \"info\" and \"annotations\", we only care about \"annotations\"\n",
    "annotations = data['annotations']\n",
    "# Get the subreddit name from the json file name\n",
    "subreddit = os.path.basename(json_file).replace('_2020.json', '')\n",
    "# Load the images from the subreddit folder\n",
    "image_folder = os.path.join(image_prefix, subreddit)\n",
    "for annotation in annotations:\n",
    "    image_id = annotation['image_id']\n",
    "    image_path = os.path.join(image_folder, f\"{image_id}.jpg\")\n",
    "    image_path_absolute = os.path.join(\"/data/PDD\", image_path)\n",
    "    print(image_path_absolute)\n",
    "    if os.path.exists(image_path_absolute):\n",
    "        try:\n",
    "            # Try to open the image to ensure it's not corrupted\n",
    "            Image.open(image_path_absolute)\n",
    "        except (IOError, FileNotFoundError):\n",
    "            print(f\"Skipping corrupted or missing image: {image_path}\")"
   ]
  },
  {
   "cell_type": "code",
   "execution_count": null,
   "metadata": {},
   "outputs": [],
   "source": []
  }
 ],
 "metadata": {
  "kernelspec": {
   "display_name": "deepclustering",
   "language": "python",
   "name": "python3"
  },
  "language_info": {
   "codemirror_mode": {
    "name": "ipython",
    "version": 3
   },
   "file_extension": ".py",
   "mimetype": "text/x-python",
   "name": "python",
   "nbconvert_exporter": "python",
   "pygments_lexer": "ipython3",
   "version": "3.9.18"
  }
 },
 "nbformat": 4,
 "nbformat_minor": 2
}
