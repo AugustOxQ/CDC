{
 "cells": [
  {
   "cell_type": "code",
   "execution_count": null,
   "metadata": {},
   "outputs": [],
   "source": [
    "import json"
   ]
  },
  {
   "cell_type": "code",
   "execution_count": null,
   "metadata": {},
   "outputs": [],
   "source": [
    "path = \"/data/SSD/flickr30k/annotations/train.json\"\n",
    "annotations = json.load(open(path, \"r\"))"
   ]
  },
  {
   "cell_type": "code",
   "execution_count": null,
   "metadata": {},
   "outputs": [],
   "source": [
    "import json\n",
    "import os\n",
    "import warnings\n",
    "from datetime import datetime\n",
    "import numpy as np\n",
    "import random\n",
    "import matplotlib.pyplot as plt\n",
    "\n",
    "import hydra\n",
    "import torch\n",
    "import torch.nn as nn\n",
    "import torch.nn.functional as F\n",
    "import transformers\n",
    "from omegaconf import DictConfig, OmegaConf\n",
    "from torch.optim.lr_scheduler import (\n",
    "    CosineAnnealingLR,\n",
    ")\n",
    "from torch.utils.data import DataLoader, Dataset\n",
    "from tqdm import tqdm\n",
    "from transformers import AutoTokenizer, AutoImageProcessor\n",
    "\n",
    "# Import local packages\n",
    "from src.data.imp_datamodule import (\n",
    "    CDC_train,\n",
    "    CDC_test,\n",
    "    EmbeddingManager,\n",
    "    FolderManager,\n",
    ")\n",
    "from src.metric.loss import CosineLoss, MeanSquareLoss\n",
    "from src.models.cdc import CDC\n",
    "from src.models.components.clustering import Clustering\n",
    "from src.utils import EmbeddingManager, FolderManager, evalrank\n",
    "\n",
    "# Setup\n",
    "os.environ[\"TOKENIZERS_PARALLELISM\"] = \"false\"\n",
    "warnings.filterwarnings(\"ignore\")\n",
    "transformers.logging.set_verbosity_error()\n",
    "device = torch.device(\"cuda\" if torch.cuda.is_available() else \"cpu\")"
   ]
  },
  {
   "cell_type": "code",
   "execution_count": 5,
   "metadata": {},
   "outputs": [],
   "source": [
    "cfg = OmegaConf.load(\"configs/flickr30k.yaml\")\n",
    "model = CDC()\n",
    "preprocess = AutoImageProcessor.from_pretrained(\"openai/clip-vit-base-patch32\")\n",
    "tokenizer = AutoTokenizer.from_pretrained(\"openai/clip-vit-base-patch32\")\n",
    "\n",
    "# Initialize FolderManager\n",
    "folder_manager = FolderManager(base_log_dir=cfg.dataset.log_path)\n",
    "\n",
    "# Initialize experiment\n",
    "init_dir, plot_dir = folder_manager.load_experiment(\n",
    "    \"20240626_010207_flickr30k-merge-label-test\"\n",
    ")\n",
    "\n",
    "# Initialize embedding manager\n",
    "annotations = json.load(open(cfg.dataset.train_path))\n",
    "embedding_manager = EmbeddingManager(\n",
    "    annotations,\n",
    "    embedding_dim=512,\n",
    "    chunk_size=10000,\n",
    "    hdf5_dir=init_dir,\n",
    "    load_existing=True,\n",
    ")"
   ]
  },
  {
   "cell_type": "code",
   "execution_count": null,
   "metadata": {},
   "outputs": [],
   "source": []
  }
 ],
 "metadata": {
  "kernelspec": {
   "display_name": "deepclustering",
   "language": "python",
   "name": "python3"
  },
  "language_info": {
   "codemirror_mode": {
    "name": "ipython",
    "version": 3
   },
   "file_extension": ".py",
   "mimetype": "text/x-python",
   "name": "python",
   "nbconvert_exporter": "python",
   "pygments_lexer": "ipython3",
   "version": "3.9.18"
  }
 },
 "nbformat": 4,
 "nbformat_minor": 2
}
